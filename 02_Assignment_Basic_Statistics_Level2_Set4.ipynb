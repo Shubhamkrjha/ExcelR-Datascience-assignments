{
 "cells": [
  {
   "cell_type": "markdown",
   "metadata": {},
   "source": [
    "## Topics: Sampling Distributions and Central Limit Theorem"
   ]
  },
  {
   "cell_type": "code",
   "execution_count": 2,
   "metadata": {},
   "outputs": [
    {
     "data": {
      "image/jpeg": "[encoded data removed]",
      "text/plain": [
       "<IPython.core.display.Image object>"
      ]
     },
     "metadata": {},
     "output_type": "display_data"
    },
    {
     "name": "stdout",
     "output_type": "stream",
     "text": [
      "ans(i) Plots which are nearly normal -- Plot C\n",
      "ans(iI) Plots which have a bimodal distribution  -- Plot B and Plot D\n",
      "ans(iii) Plots which are skewed -- Plot A , B and D\n",
      "ans(iv) Plots which have outliers on both sides of the center -- Plot A and Plot B\n"
     ]
    }
   ],
   "source": [
    "#Q1\n",
    "\n",
    "from IPython.display import Image, display\n",
    "\n",
    "# Specifying the path to the image\n",
    "image_path1 = r\"D:\\Data_Science_course\\Data Science @EXCELR\\Assignments\\2.Basic Stattistics Level 2\\Set4_Q1.jpg\"\n",
    "\n",
    "# Display the image\n",
    "display(Image(filename=image_path1))\n",
    "\n",
    "#1.\tExamine the following normal Quantile plots carefully. Which of these plots indicates that the data …\n",
    "#I.\tAre nearly normal?\n",
    "#II.\tHave a bimodal distribution? (One way to recognize a bimodal shape is a “gap” in the spacing of adjacent data values.)\n",
    "#III.\tAre skewed (i.e. not symmetric) ?\n",
    "#IV.\tHave outliers on both sides of the center?\n",
    "\n",
    "print('ans(i) Plots which are nearly normal -- Plot C')\n",
    "print('ans(iI) Plots which have a bimodal distribution  -- Plot B and Plot D')\n",
    "print('ans(iii) Plots which are skewed -- Plot A , B and D')\n",
    "print('ans(iv) Plots which have outliers on both sides of the center -- Plot A and Plot B')"
   ]
  },
  {
   "cell_type": "code",
   "execution_count": 3,
   "metadata": {},
   "outputs": [
    {
     "name": "stdout",
     "output_type": "stream",
     "text": [
      "ans(i) False , The Sample Central Limit Theorem states that the sampling distribution of the samples mean approaches normal distribution as the sample size is large enough. \n",
      "ans(ii) True : As SE(Standard Error) = sample standard deviation / Square root of (number of sample) SE = 5 / (25)^1/2 SE = 1 \n"
     ]
    }
   ],
   "source": [
    "#Q2\n",
    "''' For each of the following statements, indicate whether it is True/False. If false, explain why.\n",
    "\n",
    "The manager of a warehouse monitors the volume of shipments made by the delivery team. \n",
    "The automated tracking system tracks every package as it moves through the facility. \n",
    "A sample of 25 packages is selected and weighed every day. Based on current contracts with customers, the weights should have μ = 22 lbs. and σ = 5 lbs.\n",
    "\n",
    "\t(i) Before using a normal model for the sampling distribution of the average package weights, the manager must confirm that weights of individual packages are normally distributed.\n",
    "\n",
    "\t(ii) The standard error of the daily average SE(x ̅) = 1. '''\n",
    "\n",
    "print(\"ans(i) False , The Sample Central Limit Theorem states that the sampling distribution of the samples mean approaches normal distribution as the sample size is large enough. \")\n",
    "print(\"ans(ii) True, As SE(Standard Error) = sample standard deviation / Square root of (number of sample) SE = 5 / (25)^1/2 SE = 1 \")\n"
   ]
  },
  {
   "cell_type": "code",
   "execution_count": 8,
   "metadata": {},
   "outputs": [
    {
     "name": "stdout",
     "output_type": "stream",
     "text": [
      "Probability of investigation: 21.1%\n"
     ]
    }
   ],
   "source": [
    "#Q3.\t\n",
    "''' Auditors at a small community bank randomly sample 100 withdrawal transactions made during the week at an ATM machine located near the bank’s main branch.\n",
    " Over the past 2 years, the average withdrawal amount has been $50 with a standard deviation of $40. \n",
    " Since audit investigations are typically expensive, the auditors decide to not initiate further investigations ,\n",
    " if the mean transaction amount of the sample is between $45 and $55. What is the probability that in any given week, there will be an investigation?\n",
    "\n",
    "A.\t1.25%\n",
    "B.\t2.5%\n",
    "C.\t10.55%\n",
    "D.\t21.1%\n",
    "E.\t50%\n",
    "'''\n",
    "\n",
    "# Answer - D \n",
    "import scipy.stats as stats\n",
    "\n",
    "# Given data\n",
    "mean = 50\n",
    "std_dev = 40\n",
    "sample_size = 100\n",
    "lower_limit = 45\n",
    "upper_limit = 55\n",
    "\n",
    "# Calculate z-scores\n",
    "z_lower = (lower_limit - mean) / (std_dev / (sample_size ** 0.5))\n",
    "z_upper = (upper_limit - mean) / (std_dev / (sample_size ** 0.5))\n",
    "\n",
    "# Find probabilities using the CDF\n",
    "prob_lower = stats.norm.cdf(z_lower)\n",
    "prob_upper = stats.norm.cdf(z_upper)\n",
    "\n",
    "# Probability of investigation\n",
    "prob_investigation = 1 - (prob_upper - prob_lower)\n",
    "\n",
    "# Convert probability to percentage\n",
    "prob_investigation_percentage = prob_investigation * 100\n",
    "\n",
    "print(f\"Probability of investigation: {round(prob_investigation_percentage,1)}%\")\n",
    "\n",
    "\n"
   ]
  },
  {
   "cell_type": "code",
   "execution_count": 9,
   "metadata": {},
   "outputs": [
    {
     "name": "stdout",
     "output_type": "stream",
     "text": [
      "Minimum number of transactions (adjusted sample size): 246\n"
     ]
    }
   ],
   "source": [
    "#Q4.\t\n",
    "''' The auditors from the above example would like to maintain the probability of investigation to 5%. \n",
    "Which of the following represents the minimum number transactions that they should sample if they do not want \n",
    "to change the thresholds of 45 and 55? Assume that the sample statistics remain unchanged.\n",
    "\n",
    "A.\t144\n",
    "B.\t150\n",
    "C.\t196\n",
    "D.\t250\n",
    "E.\tNot enough information\n",
    "'''\n",
    "\n",
    "# Ans - D\n",
    "import scipy.stats as stats\n",
    "\n",
    "# Given data\n",
    "mean = 50\n",
    "std_dev = 40\n",
    "sample_size = 100\n",
    "lower_limit = 45\n",
    "upper_limit = 55\n",
    "target_probability = 0.05  # 5%\n",
    "\n",
    "# Calculate z-scores\n",
    "z_lower = (lower_limit - mean) / (std_dev / (sample_size ** 0.5))\n",
    "z_upper = (upper_limit - mean) / (std_dev / (sample_size ** 0.5))\n",
    "\n",
    "# Find probabilities using the CDF\n",
    "prob_lower = stats.norm.cdf(z_lower)\n",
    "prob_upper = stats.norm.cdf(z_upper)\n",
    "\n",
    "# Calculate the probability of investigation\n",
    "prob_investigation = 1 - (prob_upper - prob_lower)\n",
    "\n",
    "# Adjust the sample size to achieve the target probability of investigation\n",
    "new_sample_size = ((stats.norm.ppf(1 - target_probability / 2) * std_dev) / ((upper_limit - lower_limit) / 2)) ** 2\n",
    "\n",
    "print(\"Minimum number of transactions (adjusted sample size):\", round(new_sample_size))\n"
   ]
  },
  {
   "cell_type": "code",
   "execution_count": 13,
   "metadata": {},
   "outputs": [
    {
     "data": {
      "text/plain": [
       "' 5.\\tAn educational startup that helps MBA aspirants write their essays is targeting individuals who have taken GMAT in 2012 and have expressed interest in applying to FT top 20 b-schools. There are 40000 such individuals with an average GMAT score of 720 and a standard deviation of 120. The scores are distributed between 650 and 790 with a very long and thin tail towards the higher end resulting in substantial skewness. Which of the following is likely to be true for randomly chosen samples of aspirants?\\n\\nA.\\tThe standard deviation of the scores within any sample will be 120.\\nB.\\tThe standard deviation of the mean of across several samples will be 120.\\nC.\\tThe mean score in any sample will be 720.\\nD.\\tThe average of the mean across several samples will be 720.\\nE.\\tThe standard deviation of the mean across several samples will be 0.60\\n\\n'"
      ]
     },
     "execution_count": 13,
     "metadata": {},
     "output_type": "execute_result"
    }
   ],
   "source": [
    "#Q5\n",
    "#\n",
    "''' 5.\tAn educational startup that helps MBA aspirants write their essays is targeting individuals who have taken GMAT in 2012 and have expressed interest in applying to FT top 20 b-schools. There are 40000 such individuals with an average GMAT score of 720 and a standard deviation of 120. The scores are distributed between 650 and 790 with a very long and thin tail towards the higher end resulting in substantial skewness. Which of the following is likely to be true for randomly chosen samples of aspirants?\n",
    "\n",
    "A.\tThe standard deviation of the scores within any sample will be 120.\n",
    "B.\tThe standard deviation of the mean of across several samples will be 120.\n",
    "C.\tThe mean score in any sample will be 720.\n",
    "D.\tThe average of the mean across several samples will be 720.\n",
    "E.\tThe standard deviation of the mean across several samples will be 0.60\n",
    "\n",
    "'''\n",
    "# Answer = E\n",
    "\n",
    "#Standard error = sigma / (n)^0.5 = standard deviation / (sample size)^0.5 = 120 / (40000)^0.5 = 0.6"
   ]
  }
 ],
 "metadata": {
  "kernelspec": {
   "display_name": "Python 3",
   "language": "python",
   "name": "python3"
  },
  "language_info": {
   "codemirror_mode": {
    "name": "ipython",
    "version": 3
   },
   "file_extension": ".py",
   "mimetype": "text/x-python",
   "name": "python",
   "nbconvert_exporter": "python",
   "pygments_lexer": "ipython3",
   "version": "3.11.3"
  }
 },
 "nbformat": 4,
 "nbformat_minor": 2
}
