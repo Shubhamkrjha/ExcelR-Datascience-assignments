{
 "cells": [
  {
   "cell_type": "markdown",
   "metadata": {},
   "source": [
    "Topics: Normal distribution, Functions of Random Variables"
   ]
  },
  {
   "cell_type": "code",
   "execution_count": 6,
   "metadata": {},
   "outputs": [
    {
     "name": "stdout",
     "output_type": "stream",
     "text": [
      "Probability that the service manager cannot meet his commitment:0.266\n"
     ]
    }
   ],
   "source": [
    "#Q1\n",
    "'''\n",
    "The time required for servicing transmissions is normally distributed with mean = 45 minutes and SD = 8 minutes.\n",
    " The service manager plans to have work begin on the transmission of a customer’s car 10 minutes after the car is dropped off and the customer is told that the car will be ready within 1 hour from drop-off.\n",
    " What is the probability that the service manager cannot meet his commitment?'''\n",
    "\n",
    "from scipy.stats import norm\n",
    "\n",
    "# Parameters of the normal distribution\n",
    "mu = 45  # mean\n",
    "sigma = 8  # standard deviation\n",
    "\n",
    "# Remaining time after the car is dropped off = ( 60-10)\n",
    "T = 50  # minutes\n",
    "\n",
    "# Standardize the remaining time\n",
    "Z = (T - mu) / sigma\n",
    "\n",
    "# Find the probability that the service time exceeds the remaining time\n",
    "probability = 1 - norm.cdf(Z)\n",
    "\n",
    "print(f\"Probability that the service manager cannot meet his commitment:{round(probability,4)}\")\n"
   ]
  },
  {
   "cell_type": "code",
   "execution_count": 11,
   "metadata": {},
   "outputs": [
    {
     "name": "stdout",
     "output_type": "stream",
     "text": [
      "A. More employees at the processing center are older than 44 than between 38 and 44: False\n",
      "B. A training program for employees under the age of 30 at the center would be expected to attract about 36 employees: True\n"
     ]
    }
   ],
   "source": [
    "#Q2.\n",
    "'''\tThe current age (in years) of 400 clerical employees at an insurance claims processing center is normally distributed with mean  = 38 and Standard deviation  =6. For each statement below, please specify True/False. If false, briefly explain why.\n",
    "A.\tMore employees at the processing center are older than 44 than between 38 and 44.\n",
    "B.\tA training program for employees under the age of 30 at the center would be expected to attract about 36 employees. '''\n",
    "\n",
    "from scipy.stats import norm\n",
    "\n",
    "# Parameters of the normal distribution\n",
    "mu = 38  # mean\n",
    "sigma = 6  # standard deviation\n",
    "\n",
    "# Calculate the probability of employees being older than 44\n",
    "prob_older_than_44 = 1 - norm.cdf(44, loc=mu, scale=sigma)\n",
    "\n",
    "# Calculate the probability of employees being between 38 and 44\n",
    "prob_between_38_and_44 = norm.cdf(44, loc=mu, scale=sigma) - norm.cdf(38, loc=mu, scale=sigma)\n",
    "\n",
    "# Compare the probabilities\n",
    "more_older_than_44 = prob_older_than_44 > prob_between_38_and_44\n",
    "\n",
    "print(\"A. More employees at the processing center are older than 44 than between 38 and 44:\", more_older_than_44)\n",
    "\n",
    "# Calculate the probability of employees being under the age of 30\n",
    "prob_under_30 = norm.cdf(30, loc=mu, scale=sigma)\n",
    "\n",
    "# Estimate the number of employees expected to participate in the training program\n",
    "expected_employees = prob_under_30 * 400\n",
    "\n",
    "print(\"B. A training program for employees under the age of 30 at the center would be expected to attract about 36 employees:\", round(expected_employees) == 36)\n",
    "\n"
   ]
  },
  {
   "cell_type": "markdown",
   "metadata": {},
   "source": [
    "3.\tIf X1 ~ N(μ, σ2) and X2 ~ N(μ, σ2) are iid normal random variables, then what is the difference between 2 X1 and X1 + X2? Discuss both their distributions and parameters.\n",
    "\n",
    "\n",
    "\n",
    "If  X ∼ N(µ1, σ1^2 ), and  Y ∼ N(µ2, σ2^2 ) are two independent  random variables then   X + Y ∼ N(µ1 + µ2, σ1^2 + σ2^2 ) , and      X − Y ∼ N(µ1 − µ2, σ1^2 + σ2^2 ) .\n",
    "Similarly if  Z = aX + bY , where X and Y are as defined above, i.e Z is linear combination of X and Y , then Z ∼ N(aµ1 + bµ2, a^2σ1^2 + b^2σ2^2 ).\n",
    "Therefore in the question \n",
    "2X1~ N(2 u,4 σ^2) and \n",
    "X1+X2 ~  N(µ + µ, σ^2 + σ^2 ) ~ N(2 u, 2σ^2 )\n",
    "2X1-(X1+X2) = N( 4µ,6 σ^2)"
   ]
  },
  {
   "cell_type": "code",
   "execution_count": 20,
   "metadata": {},
   "outputs": [
    {
     "name": "stdout",
     "output_type": "stream",
     "text": [
      "Value of a: 48.483413929021985\n",
      "Value of b: 151.516586070978\n"
     ]
    }
   ],
   "source": [
    "#Q4\n",
    "'''4.\tLet X ~ N(100, 202). Find two values, a and b, symmetric about the mean, such that the probability of the random variable taking a value between them is 0.99. \n",
    "\n",
    "A.\t90.5, 105.9 \n",
    "B.\t80.2, 119.8 \n",
    "C.\t22, 78 \n",
    "D.\t48.5, 151.5 \n",
    "E.\t90.1, 109.9 '''\n",
    "\n",
    "from scipy.stats import norm\n",
    "\n",
    "# Mean and standard deviation\n",
    "mu = 100\n",
    "sigma = 20\n",
    "\n",
    "# Cumulative probabilities\n",
    "p_lower = 0.005\n",
    "p_upper = 0.995\n",
    "\n",
    "# Find z-scores\n",
    "z_lower = norm.ppf(p_lower)\n",
    "z_upper = norm.ppf(p_upper)\n",
    "\n",
    "# Calculate values of a and b\n",
    "a = mu + z_lower * sigma\n",
    "b = mu + z_upper * sigma\n",
    "\n",
    "print(\"Value of a:\", a)\n",
    "print(\"Value of b:\", b)\n"
   ]
  },
  {
   "cell_type": "code",
   "execution_count": 28,
   "metadata": {},
   "outputs": [
    {
     "name": "stdout",
     "output_type": "stream",
     "text": [
      "Rupee Ranges from 2.2 to 21.8 Million$ in Annual profit of the Company 95% of the time\n",
      "Rupee Ranges from 9.9 to 98.1 Crore Rupees in Annual profit of the Company 95% of the time\n",
      "The 5th percentile of Profit for the company is 3.78  Million$ or 17.0Crore Rupees\n",
      "The Probability of Division #1 making a loss is 4.78%\n",
      "The Probability of Division #2 making a loss is 4.01 %\n",
      "The Division 1 has a larger Probability of making a loss\n"
     ]
    }
   ],
   "source": [
    "#Q5\n",
    "''' 5.Consider a company that has two different divisions. The annual profits from the two divisions are independent and have distributions Profit1 ~ N(5, 32) and Profit2 ~ N(7, 42) respectively. Both the profits are in USD Million.\n",
    "Answer the following questions about the total profit of the company in Rupees. Assume that 1USD = Rs. 45''' \n",
    "\n",
    "# Combine Mean Profit of both division for Company= mean1 + mean2\n",
    "\n",
    "import numpy as np\n",
    "import scipy.stats as stats\n",
    "mean1 = 5\n",
    "mean2 = 7\n",
    "Mean = (mean1+mean2) # 1 USD = 45 rupees\n",
    "#print('The Mean Profit of both division:',Mean, 'Million$')\n",
    "#print('The Mean Profit of both division:',(Mean*45)/10, 'Crore Rupees')\n",
    "\n",
    "# Combine standard Deviation = (Std1^2 + Std2^2)^1/2\n",
    "std1 = 3**2\n",
    "std2 = 4**2\n",
    "Std = np.sqrt(std1 + std2)\n",
    "#print('The Standard Deviation of both division:', Std, 'Million$')\n",
    "#print('The Standard Deviation of both division:', (Std*45)/10, 'Crore Rupees')\n",
    "\n",
    "\n",
    "\n",
    "\n",
    "#Rupee range (centered on the mean) such that it contains 95% probability for the annual profit of the company.\n",
    "r1, r2 = np.round(stats.norm.interval(0.95, Mean, Std),2)\n",
    "print('Rupee Ranges from',r1,'to',r2,'Million$ in Annual profit of the Company 95% of the time')\n",
    "print('Rupee Ranges from',round(np.divide(np.multiply(r1,45),10),2),'to',np.divide(np.multiply(r2,45),10),'Crore Rupees in Annual profit of the Company 95% of the time')\n",
    "      \n",
    "# 5th percentile of profit (in Rupees) for the company\n",
    "# Z value  = X_bar - Mew / Std pop \n",
    "# for percentile, X_percentile = (Zvalue * Std pop) + Mew\n",
    "Z_05_ = stats.norm.ppf(0.05)\n",
    "Fifth_percentile = (Z_05_ * Std) + Mean\n",
    "print(f'The 5th percentile of Profit for the company is {np.round(Fifth_percentile,2)}  Million$ or {np.round((Fifth_percentile*45)/10,)}Crore Rupees')\n",
    "\n",
    "\n",
    "\n",
    "# The probability of Division #1 making a loss\n",
    "print(f'The Probability of Division #1 making a loss is {np.round((stats.norm.cdf(0,5,3))*100,2)}%')\n",
    "\n",
    "# The probability of Division #2 making a loss\n",
    "print('The Probability of Division #2 making a loss is',np.round((stats.norm.cdf(0,7,4))*100,2),'%')\n",
    "\n",
    "Division_1 = (stats.norm.cdf(0,5,3))*100\n",
    "Division_2 = (stats.norm.cdf(0,7,4))*100\n",
    "\n",
    "if Division_1>Division_2:\n",
    "    print('The Division 1 has a larger Probability of making a loss')\n",
    "else:\n",
    "          print('The Division 2 has a larger Porbability of making a loss')\n"
   ]
  }
 ],
 "metadata": {
  "kernelspec": {
   "display_name": "Python 3",
   "language": "python",
   "name": "python3"
  },
  "language_info": {
   "codemirror_mode": {
    "name": "ipython",
    "version": 3
   },
   "file_extension": ".py",
   "mimetype": "text/x-python",
   "name": "python",
   "nbconvert_exporter": "python",
   "pygments_lexer": "ipython3",
   "version": "3.11.3"
  }
 },
 "nbformat": 4,
 "nbformat_minor": 2
}
