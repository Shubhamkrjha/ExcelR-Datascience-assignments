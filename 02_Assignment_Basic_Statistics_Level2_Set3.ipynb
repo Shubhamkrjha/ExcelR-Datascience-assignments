{
 "cells": [
  {
   "cell_type": "markdown",
   "metadata": {},
   "source": [
    "## Topics: Confidence Intervals"
   ]
  },
  {
   "cell_type": "markdown",
   "metadata": {},
   "source": [
    "Q1\n",
    "1.\tFor each of the following statements, indicate whether it is True/False. If false, explain why.\n",
    "\n",
    "I.\tThe sample size of the survey should at least be a fixed percentage of the population size in order to produce representative results. \n",
    "Answer -- TRUE\n",
    "\n",
    "II.\tThe sampling frame is a list of every item that appears in a survey sample, including those that did not respond to questions.\n",
    "Answer-- FALSE. The sampling frame is a list of all the elements (individuals, items, etc.) in the population from which the sample will be drawn.  Items that did not respond to questions are not part of the sampling frame.\n",
    "\n",
    "III.\tLarger surveys convey a more accurate impression of the population than smaller surveys.\n",
    "Answer -- TRUE"
   ]
  },
  {
   "cell_type": "markdown",
   "metadata": {},
   "source": [
    "2.\tPC Magazine asked all of its readers to participate in a survey of their satisfaction with different brands of electronics. In the 2004 survey, which was included in an issue of the magazine that year, more than 9000 readers rated the products on a scale from 1 to 10. The magazine reported that the average rating assigned by 225 readers to a Kodak compact digital camera was 7.5. For this product, identify the following:\n",
    "\n",
    "A.\tThe population -- 9000\n",
    "B.\tThe parameter of interest - Rating of camera\n",
    "C.\tThe sampling frame - All readers of issue of magazine \n",
    "D.\tThe sample size - 225\n",
    "E.\tThe sampling design - Voluntary \n",
    "F.\tAny potential sources of bias or other problems with the survey or sample -- no confirmation that those who rated are actually using the product or not. \n",
    " "
   ]
  },
  {
   "cell_type": "markdown",
   "metadata": {
    "vscode": {
     "languageId": "plaintext"
    }
   },
   "source": [
    "3.\tFor each of the following statements, indicate whether it is True/False. If false, explain why.\n",
    "\n",
    "I.\tIf the 95% confidence interval for the average purchase of customers at a department store is $50 to $110, then $100 is a plausible value for the population mean at this level of confidence. \n",
    "\n",
    "Answer-  True\n",
    "\n",
    "II.\tIf the 95% confidence interval for the number of moviegoers who purchase concessions is 30% to 45%, this means that fewer than half of all moviegoers purchase concessions.\n",
    " Answer - False , The confidence interval provides a range of plausible values for the true proportion, but it does not definitively determine whether fewer than half or more than half of all moviegoers purchase concessions.\n",
    "III.\tThe 95% Confidence-Interval for μ only applies if the sample data are nearly normally distributed.\n",
    "Answer - False ,  The validity of the 95% confidence interval for the population mean does not depend on the sample data being nearly normally distributed. Instead, it depends on the sample size and the central limit theorem."
   ]
  },
  {
   "cell_type": "markdown",
   "metadata": {},
   "source": [
    "4.\tWhat are the chances that x bar ( Sample mean) > mu ( population mean)  ?\n",
    "\n",
    "A.\t¼ \n",
    "B.\t½ \n",
    "C.\t¾ \n",
    "D.\t1\n",
    "\n",
    "Answer - B"
   ]
  },
  {
   "cell_type": "code",
   "execution_count": 17,
   "metadata": {},
   "outputs": [
    {
     "name": "stdout",
     "output_type": "stream",
     "text": [
      "Margin of Error: 0.009181088562910174\n",
      "95% Confidence Interval: (0.036818911437089825, 0.05518108856291017)\n",
      "5% is within the confidence interval. Microsoft cannot conclude that Mozilla has less than 5% share of the market.\n",
      "Based on WebSideStory's claim, Microsoft can conclude that Mozilla has less than 5% share of the market.\n"
     ]
    }
   ],
   "source": [
    "#Q5\n",
    "'''\n",
    "5.\tIn January 2005, a company that monitors Internet traffic (WebSideStory) reported that its sampling revealed that the Mozilla Firefox browser launched in 2004 had grabbed a 4.6% share of the market.\n",
    "\n",
    "I.\tIf the sample were based on 2,000 users, could Microsoft conclude that Mozilla has a less than 5% share of the market?\n",
    "\n",
    "II.\tWebSideStory claims that its sample includes all the daily Internet users. If that’s the case, then can Microsoft conclude that Mozilla has a less than 5% share of the market?import math\n",
    "'''\n",
    "# Given data\n",
    "p_hat = 0.046  # Sample proportion\n",
    "n = 2000  # Sample size\n",
    "\n",
    "# Calculate margin of error\n",
    "z = 1.96  # For 95% confidence level\n",
    "ME = z * math.sqrt((p_hat * (1 - p_hat)) / n)\n",
    "\n",
    "# Calculate confidence interval\n",
    "lower_bound = p_hat - ME\n",
    "upper_bound = p_hat + ME\n",
    "\n",
    "print(\"Margin of Error:\", ME)\n",
    "print(\"95% Confidence Interval:\", (lower_bound, upper_bound))\n",
    "\n",
    "# Check if 5% is within the confidence interval\n",
    "if lower_bound <= 0.05 <= upper_bound:\n",
    "    print(\"5% is within the confidence interval. Microsoft cannot conclude that Mozilla has less than 5% share of the market.\")\n",
    "else:\n",
    "    print(\"5% is not within the confidence interval. Microsoft can conclude that Mozilla has less than 5% share of the market.\")\n",
    "\n",
    "# If WebSideStory's claim is accurate\n",
    "if p_hat < 0.05:\n",
    "    print(\"Based on WebSideStory's claim, Microsoft can conclude that Mozilla has less than 5% share of the market.\")\n",
    "else:\n",
    "    print(\"Based on WebSideStory's claim, Microsoft cannot conclude that Mozilla has less than 5% share of the market.\")\n"
   ]
  },
  {
   "cell_type": "markdown",
   "metadata": {},
   "source": [
    "6.\tA book publisher monitors the size of shipments of its textbooks to university bookstores. For a sample of texts used at various schools, the 95% confidence interval for the size of the shipment was 250 ± 45 books. Which, if any, of the following interpretations of this interval are correct?\n",
    "\n",
    "A.\tAll shipments are between 205 and 295 books.\n",
    "\n",
    "B.\t95% of shipments are between 205 and 295 books.\n",
    "\n",
    "C.\tThe procedure that produced this interval generates ranges that hold the population mean for 95% of samples.\n",
    "\n",
    "D.\tIf we get another sample, then we can be 95% sure that the mean of this second sample is between 205 and 295.\n",
    "\n",
    "E.\tWe can be 95% confident that the range 160 to 340 holds the population mean.\n",
    "\n",
    "\n",
    "Answer  -- B "
   ]
  },
  {
   "cell_type": "markdown",
   "metadata": {},
   "source": [
    "7.\tWhich is shorter: a 95% z-interval or a 95% t-interval for μ if we know that σ =s?\n",
    "\n",
    "A.\tThe z-interval is shorter\n",
    "B.\tThe t-interval is shorter\n",
    "C.\tBoth are equal\n",
    "D.\tWe cannot say\n",
    "\n",
    "Answer -- A \n",
    "95% Z interval = ( -1.96 , 1.96)\n",
    "95% t interval = ( -2.58 , 2.58)\n",
    "\n",
    "\n"
   ]
  },
  {
   "cell_type": "markdown",
   "metadata": {},
   "source": [
    "Questions 8 and 9 are based on the following: To prepare a report on the economy, analysts need to estimate the percentage of businesses that plan to hire additional employees in the next 60 days.\n",
    "\n"
   ]
  },
  {
   "cell_type": "code",
   "execution_count": 18,
   "metadata": {},
   "outputs": [
    {
     "name": "stdout",
     "output_type": "stream",
     "text": [
      "Minimum sample size required: 601\n"
     ]
    }
   ],
   "source": [
    "#Q8\n",
    "''' 8.\tHow many randomly selected employers (minimum number) must we contact in order to guarantee a margin of error of no more than 4% (at 95% confidence)?\n",
    "\n",
    "A.\t600\n",
    "B.\t400\n",
    "C.\t550\n",
    "D.\t1000\n",
    "'''\n",
    "\n",
    "## Answer is B  \n",
    "import math\n",
    "\n",
    "# Given data\n",
    "confidence_level = 0.95\n",
    "margin_of_error = 0.04  # 4%\n",
    "population_standard_deviation = 0.5  # Conservative estimate\n",
    "\n",
    "# Calculate the z-score for the desired confidence level\n",
    "z_score = 1.96  # For a 95% confidence level\n",
    "\n",
    "# Calculate the minimum sample size\n",
    "minimum_sample_size = math.ceil((z_score * population_standard_deviation / margin_of_error) ** 2)\n",
    "\n",
    "print(\"Minimum sample size required:\", minimum_sample_size)\n"
   ]
  },
  {
   "cell_type": "code",
   "execution_count": 20,
   "metadata": {},
   "outputs": [
    {
     "name": "stdout",
     "output_type": "stream",
     "text": [
      "Z-score for 98% confidence level: 2.3263478740408408\n",
      "Minimum sample size required: 846\n"
     ]
    }
   ],
   "source": [
    "#Q9\n",
    "''' 9.\tSuppose we want the above margin of error to be based on a 98% confidence level. What sample size (minimum) must we now use?\n",
    "\n",
    "A.\t1000\n",
    "B.\t757\n",
    "C.\t848\n",
    "D.\t543\n",
    "'''\n",
    "## Answer is C\n",
    "import math\n",
    "import scipy.stats as stats\n",
    "\n",
    "# Given data\n",
    "confidence_level = 0.98\n",
    "margin_of_error = 0.04  # 4%\n",
    "population_standard_deviation = 0.5  # Conservative estimate\n",
    "\n",
    "# Calculate the z-score for the desired confidence level\n",
    "z_score = stats.norm.ppf((1 + confidence_level) / 2)\n",
    "\n",
    "\n",
    "print(\"Z-score for 98% confidence level:\", z_score)\n",
    "\n",
    "\n",
    "\n",
    "# Calculate the minimum sample size\n",
    "minimum_sample_size = math.ceil((z_score  * population_standard_deviation / margin_of_error) ** 2)\n",
    "\n",
    "print(\"Minimum sample size required:\", minimum_sample_size)\n"
   ]
  }
 ],
 "metadata": {
  "kernelspec": {
   "display_name": "Python 3",
   "language": "python",
   "name": "python3"
  },
  "language_info": {
   "codemirror_mode": {
    "name": "ipython",
    "version": 3
   },
   "file_extension": ".py",
   "mimetype": "text/x-python",
   "name": "python",
   "nbconvert_exporter": "python",
   "pygments_lexer": "ipython3",
   "version": "3.11.3"
  }
 },
 "nbformat": 4,
 "nbformat_minor": 2
}
